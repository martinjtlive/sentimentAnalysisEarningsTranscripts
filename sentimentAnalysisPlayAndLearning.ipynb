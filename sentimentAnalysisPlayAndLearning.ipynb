{
 "cells": [
  {
   "cell_type": "code",
   "execution_count": 1,
   "id": "baaa6f92",
   "metadata": {},
   "outputs": [],
   "source": [
    "# to load pdf\n",
    "from PyPDF2 import PdfReader"
   ]
  },
  {
   "cell_type": "code",
   "execution_count": 2,
   "id": "efae752e",
   "metadata": {},
   "outputs": [],
   "source": [
    "# extracting text from a pdf\n",
    "inputfile = r'C:\\MIDS\\Project2SentimentAnalysisTranscripts\\InTranscripts\\Tesla Inc._Earnings Call_2023-04-19_English.pdf'\n",
    "text=''\n",
    "pdfObj = PdfReader(inputfile)\n",
    "for page in pdfObj.pages:\n",
    "    text += page.extract_text()\n",
    "\n",
    "outfile = r'C:\\MIDS\\Project2SentimentAnalysisTranscripts\\InTranscripts\\TextProcessing\\extractedText.txt'\n",
    "\n",
    "with open(outfile, 'w') as file:\n",
    "    file.write(text)\n"
   ]
  },
  {
   "cell_type": "code",
   "execution_count": 3,
   "id": "6edf5197",
   "metadata": {},
   "outputs": [
    {
     "data": {
      "text/plain": [
       "(list, 82)"
      ]
     },
     "execution_count": 3,
     "metadata": {},
     "output_type": "execute_result"
    }
   ],
   "source": [
    "# for chunking the text\n",
    "from langchain.text_splitter import CharacterTextSplitter\n",
    "\n",
    "textSplitter = CharacterTextSplitter(separator='\\n'\n",
    "                                     , chunk_size = 1000\n",
    "                                    , chunk_overlap = 200\n",
    "                                    , length_function = len)\n",
    "\n",
    "chunks =  textSplitter.split_text(text)\n",
    "type(chunks), len(chunks)"
   ]
  },
  {
   "cell_type": "code",
   "execution_count": 4,
   "id": "812820ea",
   "metadata": {},
   "outputs": [
    {
     "data": {
      "text/plain": [
       "\"the right to disseminate its opinions and analyses. S&P Global's public ratings and analyses are made available on its Web sites, www.standardandpoors.com (free\\nof charge), and www.ratingsdirect.com and www.globalcreditportal.com (subscription), and may be distributed through other means, including via S&P Global\\npublications and third-party redistributors. Additional information about our ratings fees is available at www.standardandpoors.com/usratingsfees.\\n© 2023 S&P Global Market Intelligence.\""
      ]
     },
     "execution_count": 4,
     "metadata": {},
     "output_type": "execute_result"
    }
   ],
   "source": [
    "chunks[81]"
   ]
  },
  {
   "cell_type": "markdown",
   "id": "9027de6d",
   "metadata": {},
   "source": [
    "# text processing on chunks"
   ]
  },
  {
   "cell_type": "code",
   "execution_count": 4,
   "id": "45d5b818",
   "metadata": {},
   "outputs": [
    {
     "name": "stdout",
     "output_type": "stream",
     "text": [
      "######## No URL########### \n",
      "['COPYRIGHT © 2023 S&P  Global Market  Intelligence, a  division of S&P Global  Inc. All rights reserved\\nspglobal.com/marketintelligence1\\nTesla, Inc. NasdaqGS:TSLA\\nFQ1 2023  Earnings  Call Transcripts\\nWednesday, April 19, 2023  9:30 PM GMT\\nS&P Global Market Intelligence Estimates\\n -FQ1 2023- -FQ2  2023- -FY 2023- -FY 2024-\\n CONSENSUS ACTUAL SURPRISE CONSENSUS CONSENSUS CONSENSUS\\nEPS Normalized  0.85 0.85\\n 0.00 0.92 3.95 NA NA 5.50\\nRevenue  (mm) 23355.07 23329.00\\n (0.11  %) 24849.47 102499.69 NA NA 133639.51\\nCurrency: USD\\nConsensus as of  Apr-19-2023 10:24 PM GMT\\n  - EPS NORMALIZED  -  \\n CONSENSUS ACTUAL SURPRISE\\nFQ2 2022 0.60 0.76\\n 26.67  %\\nFQ3 2022 1.00 1.05\\n 5.00 %\\nFQ4 2022 1.11 1.19\\n 7.21 %\\nFQ1 2023 0.85 0.85\\n 0.00 %Contents\\nCOPYRIGHT © 2023 S&P  Global Market  Intelligence, a  division of S&P Global  Inc. All rights reserved\\nspglobal.com/marketintelligence2Table of Contents\\n \\nCall Participants .................................................................................. 3', 'spglobal.com/marketintelligence2Table of Contents\\n \\nCall Participants .................................................................................. 3\\nPresentation .................................................................................. 4\\nQuestion and Answer .................................................................................. 6TESLA, INC. FQ1 2023 EARNINGS CALL  APR 19, 2023\\nCopyright © 2023 S&P Global Market Intelligence, a division of S&P Global Inc. All Rights reserved.\\nspglobal.com/marketintelligence 3Call Participants\\nEXECUTIVES\\nAndrew D. Baglino\\nSenior Vice President of Powertrain &\\nEnergy Engineering\\nElon R. Musk\\nTechnoking of Tesla, CEO & Director\\nKarn Budhiraj\\nMartin Viecha\\nSenior Director for Investor Relations\\nRoshan Thomas\\nZachary John Planell Kirkhorn\\nMaster of Coin & CFO\\nANALYSTS\\nAdam Michael Jonas\\nMorgan Stanley, Research Division\\nAlexander Eugene Potter\\nPiper Sandler & Co., Research Division\\nBenjamin Joseph Kallo']\n",
      " ############# Lower case ############## \n",
      "['copyright © 2023 s&p  global market  intelligence, a  division of s&p global  inc. all rights reserved\\nspglobal.com/marketintelligence1\\ntesla, inc. nasdaqgs:tsla\\nfq1 2023  earnings  call transcripts\\nwednesday, april 19, 2023  9:30 pm gmt\\ns&p global market intelligence estimates\\n -fq1 2023- -fq2  2023- -fy 2023- -fy 2024-\\n consensus actual surprise consensus consensus consensus\\neps normalized  0.85 0.85\\n 0.00 0.92 3.95 na na 5.50\\nrevenue  (mm) 23355.07 23329.00\\n (0.11  %) 24849.47 102499.69 na na 133639.51\\ncurrency: usd\\nconsensus as of  apr-19-2023 10:24 pm gmt\\n  - eps normalized  -  \\n consensus actual surprise\\nfq2 2022 0.60 0.76\\n 26.67  %\\nfq3 2022 1.00 1.05\\n 5.00 %\\nfq4 2022 1.11 1.19\\n 7.21 %\\nfq1 2023 0.85 0.85\\n 0.00 %contents\\ncopyright © 2023 s&p  global market  intelligence, a  division of s&p global  inc. all rights reserved\\nspglobal.com/marketintelligence2table of contents\\n \\ncall participants .................................................................................. 3', 'spglobal.com/marketintelligence2table of contents\\n \\ncall participants .................................................................................. 3\\npresentation .................................................................................. 4\\nquestion and answer .................................................................................. 6tesla, inc. fq1 2023 earnings call  apr 19, 2023\\ncopyright © 2023 s&p global market intelligence, a division of s&p global inc. all rights reserved.\\nspglobal.com/marketintelligence 3call participants\\nexecutives\\nandrew d. baglino\\nsenior vice president of powertrain &\\nenergy engineering\\nelon r. musk\\ntechnoking of tesla, ceo & director\\nkarn budhiraj\\nmartin viecha\\nsenior director for investor relations\\nroshan thomas\\nzachary john planell kirkhorn\\nmaster of coin & cfo\\nanalysts\\nadam michael jonas\\nmorgan stanley, research division\\nalexander eugene potter\\npiper sandler & co., research division\\nbenjamin joseph kallo']\n",
      "########## No punctuation ############## \n",
      " ['copyright   2023 s p  global market  intelligence  a  division of s p global  inc  all rights reserved\\nspglobal com marketintelligence1\\ntesla  inc  nasdaqgs tsla\\nfq1 2023  earnings  call transcripts\\nwednesday  april 19  2023  9 30 pm gmt\\ns p global market intelligence estimates\\n  fq1 2023   fq2  2023   fy 2023   fy 2024 \\n consensus actual surprise consensus consensus consensus\\neps normalized  0 85 0 85\\n 0 00 0 92 3 95 na na 5 50\\nrevenue   mm  23355 07 23329 00\\n  0 11     24849 47 102499 69 na na 133639 51\\ncurrency  usd\\nconsensus as of  apr 19 2023 10 24 pm gmt\\n    eps normalized     \\n consensus actual surprise\\nfq2 2022 0 60 0 76\\n 26 67   \\nfq3 2022 1 00 1 05\\n 5 00  \\nfq4 2022 1 11 1 19\\n 7 21  \\nfq1 2023 0 85 0 85\\n 0 00  contents\\ncopyright   2023 s p  global market  intelligence  a  division of s p global  inc  all rights reserved\\nspglobal com marketintelligence2table of contents\\n \\ncall participants                                                                                    3', 'spglobal com marketintelligence2table of contents\\n \\ncall participants                                                                                    3\\npresentation                                                                                    4\\nquestion and answer                                                                                    6tesla  inc  fq1 2023 earnings call  apr 19  2023\\ncopyright   2023 s p global market intelligence  a division of s p global inc  all rights reserved \\nspglobal com marketintelligence 3call participants\\nexecutives\\nandrew d  baglino\\nsenior vice president of powertrain  \\nenergy engineering\\nelon r  musk\\ntechnoking of tesla  ceo   director\\nkarn budhiraj\\nmartin viecha\\nsenior director for investor relations\\nroshan thomas\\nzachary john planell kirkhorn\\nmaster of coin   cfo\\nanalysts\\nadam michael jonas\\nmorgan stanley  research division\\nalexander eugene potter\\npiper sandler   co   research division\\nbenjamin joseph kallo']\n"
     ]
    }
   ],
   "source": [
    "# remove URL references from text\n",
    "import re\n",
    "\n",
    "def remove_url(text):\n",
    "    # regular expression pattern to match URLs\n",
    "    url_pattern = r'https?://\\S+|www\\.\\S+'\n",
    "    cleaned_text =  re.sub(url_pattern, '', text)\n",
    "    \n",
    "    return cleaned_text\n",
    "\n",
    "noUrlchunks=[]\n",
    "noUrlText=''\n",
    "\n",
    "for chunk in chunks:\n",
    "    noUrlText=remove_url(chunk)\n",
    "    noUrlchunks.append(noUrlText)\n",
    "\n",
    "\n",
    "\n",
    "# make text lower case\n",
    "lower_case_chunks = []\n",
    "lowerCaseText=''\n",
    "\n",
    "for chunk in noUrlchunks:\n",
    "    lowerCaseText = chunk.lower()\n",
    "    lower_case_chunks.append(lowerCaseText)\n",
    "    \n",
    "print(f'######## No URL########### \\n{noUrlchunks[:2]}\\n ############# Lower case ############## \\n{lower_case_chunks[:2]}')\n",
    "\n",
    "# remove punctuation    \n",
    "def remove_punctuation(input_string):\n",
    "    # Define a regular expression pattern to match punctuation characters\n",
    "    pattern = r\"[^\\w\\s]\"\n",
    "    \n",
    "    # Substitute the punctuation characters with an empty string\n",
    "    no_punct_string = re.sub(pattern, \" \", input_string)\n",
    "    \n",
    "    return no_punct_string\n",
    "\n",
    "\n",
    "# make text with no punctuations\n",
    "no_punc_chunks = []\n",
    "no_punc_text = ''\n",
    "\n",
    "for chunk in lower_case_chunks:\n",
    "    no_punc_text = remove_punctuation(chunk)\n",
    "    no_punc_chunks.append(no_punc_text)\n",
    "\n",
    "print (f'########## No punctuation ############## \\n {no_punc_chunks[:2]}')\n",
    "    "
   ]
  },
  {
   "cell_type": "code",
   "execution_count": 5,
   "id": "3cc23ebe",
   "metadata": {},
   "outputs": [
    {
     "name": "stderr",
     "output_type": "stream",
     "text": [
      "[nltk_data] Downloading package stopwords to\n",
      "[nltk_data]     C:\\Users\\martin.thomasmathew\\AppData\\Roaming\\nltk_data\n",
      "[nltk_data]     ...\n",
      "[nltk_data]   Package stopwords is already up-to-date!\n",
      "[nltk_data] Downloading package wordnet to\n",
      "[nltk_data]     C:\\Users\\martin.thomasmathew\\AppData\\Roaming\\nltk_data\n",
      "[nltk_data]     ...\n",
      "[nltk_data]   Package wordnet is already up-to-date!\n",
      "[nltk_data] Downloading package omw-1.4 to\n",
      "[nltk_data]     C:\\Users\\martin.thomasmathew\\AppData\\Roaming\\nltk_data\n",
      "[nltk_data]     ...\n",
      "[nltk_data]   Package omw-1.4 is already up-to-date!\n"
     ]
    }
   ],
   "source": [
    "# Natural Language tool kit\n",
    "import nltk\n",
    "\n",
    "# tokenize words\n",
    "from nltk.tokenize import word_tokenize\n",
    "\n",
    "#  remove stop words\n",
    "\n",
    "from nltk.corpus import stopwords\n",
    "nltk.download('stopwords')\n",
    "\n",
    "# performing only lemmatization and not stemming. Going by \n",
    "# https://www.datacamp.com/tutorial/stemming-lemmatization-python that\n",
    "# indicates lemmatization as better though time-consuming compared to stemming\n",
    "from nltk.stem import WordNetLemmatizer\n",
    "nltk.download(\"wordnet\")\n",
    "nltk.download(\"omw-1.4\")\n",
    "\n",
    "def remove_stopwords(input_stringlist):\n",
    "    filtered_words = [word for word in input_stringlist if word not in stopwords.words('english')]\n",
    "    # filtered_string = ' '.join(filtered_words)\n",
    "    return filtered_words\n",
    "\n",
    "\n",
    "\n",
    "def lemmatizeText(input_stringlist):\n",
    "    # Initialize wordnet lemmatizer\n",
    "    wnl = WordNetLemmatizer()\n",
    "    \n",
    "    lemmatized_words = []\n",
    "    for word in input_stringlist:\n",
    "        lemmatized_words.append(wnl.lemmatize(word, pos=\"v\"))\n",
    "    \n",
    "    lemmatized_string = ' '.join(lemmatized_words)\n",
    "    return lemmatized_string #, lemmatized_words\n",
    "\n",
    "processed__text_chunks = []\n",
    "\n",
    "for chunk in no_punc_chunks:\n",
    "    tokenized_chunk_text = word_tokenize(chunk) \n",
    "    # remove stop words from tokenized chunk\n",
    "    no_stop_in_chunk = remove_stopwords(tokenized_chunk_text)\n",
    "    lemmatized_chunk = lemmatizeText(no_stop_in_chunk)\n",
    "    \n",
    "    \n",
    "\n"
   ]
  },
  {
   "cell_type": "code",
   "execution_count": 7,
   "id": "8df00126",
   "metadata": {},
   "outputs": [
    {
     "data": {
      "text/plain": [
       "82"
      ]
     },
     "execution_count": 7,
     "metadata": {},
     "output_type": "execute_result"
    }
   ],
   "source": [
    "len(no_punc_chunks)"
   ]
  },
  {
   "cell_type": "code",
   "execution_count": 8,
   "id": "22bd23d1",
   "metadata": {},
   "outputs": [
    {
     "name": "stderr",
     "output_type": "stream",
     "text": [
      "Retrying langchain.llms.openai.completion_with_retry.<locals>._completion_with_retry in 4.0 seconds as it raised RateLimitError: The server had an error while processing your request. Sorry about that!.\n"
     ]
    },
    {
     "name": "stdout",
     "output_type": "stream",
     "text": [
      "\n",
      "Neutral\n"
     ]
    },
    {
     "name": "stderr",
     "output_type": "stream",
     "text": [
      "Retrying langchain.llms.openai.completion_with_retry.<locals>._completion_with_retry in 4.0 seconds as it raised RateLimitError: The server had an error while processing your request. Sorry about that!.\n",
      "Retrying langchain.llms.openai.completion_with_retry.<locals>._completion_with_retry in 4.0 seconds as it raised RateLimitError: The server had an error while processing your request. Sorry about that!.\n"
     ]
    },
    {
     "name": "stdout",
     "output_type": "stream",
     "text": [
      "\n",
      "Neutral.\n"
     ]
    },
    {
     "name": "stderr",
     "output_type": "stream",
     "text": [
      "Retrying langchain.llms.openai.completion_with_retry.<locals>._completion_with_retry in 4.0 seconds as it raised RateLimitError: The server had an error while processing your request. Sorry about that!.\n",
      "Retrying langchain.llms.openai.completion_with_retry.<locals>._completion_with_retry in 4.0 seconds as it raised RateLimitError: The server had an error while processing your request. Sorry about that!.\n",
      "Retrying langchain.llms.openai.completion_with_retry.<locals>._completion_with_retry in 4.0 seconds as it raised RateLimitError: The server had an error while processing your request. Sorry about that!.\n"
     ]
    },
    {
     "name": "stdout",
     "output_type": "stream",
     "text": [
      "\n",
      "Neutral\n",
      "\n",
      "Neutral\n",
      "\n",
      "Neutral\n",
      "\n",
      "Neutral\n"
     ]
    },
    {
     "name": "stderr",
     "output_type": "stream",
     "text": [
      "Retrying langchain.llms.openai.completion_with_retry.<locals>._completion_with_retry in 4.0 seconds as it raised RateLimitError: The server had an error while processing your request. Sorry about that!.\n",
      "Retrying langchain.llms.openai.completion_with_retry.<locals>._completion_with_retry in 4.0 seconds as it raised RateLimitError: The server had an error while processing your request. Sorry about that!.\n"
     ]
    },
    {
     "name": "stdout",
     "output_type": "stream",
     "text": [
      "\n",
      "Neutral\n"
     ]
    },
    {
     "name": "stderr",
     "output_type": "stream",
     "text": [
      "Retrying langchain.llms.openai.completion_with_retry.<locals>._completion_with_retry in 4.0 seconds as it raised RateLimitError: The server had an error while processing your request. Sorry about that!.\n"
     ]
    },
    {
     "name": "stdout",
     "output_type": "stream",
     "text": [
      "\n",
      "Neutral\n",
      "\n",
      "Neutral\n",
      "\n",
      "Neutral\n",
      "\n",
      "Negative\n",
      "\n",
      "Neutral\n",
      "\n",
      "Neutral\n",
      "\n",
      "Negative\n",
      "\n",
      "Neutral\n",
      "\n",
      "Neutral\n",
      "\n",
      "Neutral\n",
      "\n",
      "Neutral\n",
      "\n",
      "Neutral\n",
      "\n",
      "Neutral\n",
      "\n",
      "Neutral\n",
      "\n",
      "Positive\n",
      "\n",
      "Negative\n"
     ]
    },
    {
     "name": "stderr",
     "output_type": "stream",
     "text": [
      "Retrying langchain.llms.openai.completion_with_retry.<locals>._completion_with_retry in 4.0 seconds as it raised RateLimitError: The server had an error while processing your request. Sorry about that!.\n"
     ]
    },
    {
     "name": "stdout",
     "output_type": "stream",
     "text": [
      "\n",
      "Neutral\n",
      "\n",
      "Neutral\n",
      "\n",
      "Negative\n"
     ]
    },
    {
     "name": "stderr",
     "output_type": "stream",
     "text": [
      "Retrying langchain.llms.openai.completion_with_retry.<locals>._completion_with_retry in 4.0 seconds as it raised RateLimitError: The server had an error while processing your request. Sorry about that!.\n",
      "Retrying langchain.llms.openai.completion_with_retry.<locals>._completion_with_retry in 4.0 seconds as it raised RateLimitError: The server had an error while processing your request. Sorry about that!.\n"
     ]
    },
    {
     "name": "stdout",
     "output_type": "stream",
     "text": [
      "\n",
      "Negative\n",
      "\n",
      "Positive\n",
      "\n",
      "Neutral\n",
      "Neutral\n",
      "\n",
      "Neutral\n",
      "\n",
      "Negative\n",
      "\n",
      "Negative\n"
     ]
    },
    {
     "name": "stderr",
     "output_type": "stream",
     "text": [
      "Retrying langchain.llms.openai.completion_with_retry.<locals>._completion_with_retry in 4.0 seconds as it raised RateLimitError: The server had an error while processing your request. Sorry about that!.\n"
     ]
    },
    {
     "name": "stdout",
     "output_type": "stream",
     "text": [
      "\n",
      "Negative\n",
      "\n",
      "Negative.\n",
      "\n",
      "Negative\n"
     ]
    },
    {
     "name": "stderr",
     "output_type": "stream",
     "text": [
      "Retrying langchain.llms.openai.completion_with_retry.<locals>._completion_with_retry in 4.0 seconds as it raised RateLimitError: The server had an error while processing your request. Sorry about that!.\n",
      "Retrying langchain.llms.openai.completion_with_retry.<locals>._completion_with_retry in 4.0 seconds as it raised RateLimitError: The server had an error while processing your request. Sorry about that!.\n"
     ]
    },
    {
     "name": "stdout",
     "output_type": "stream",
     "text": [
      "\n",
      "Neutral\n"
     ]
    },
    {
     "name": "stderr",
     "output_type": "stream",
     "text": [
      "Retrying langchain.llms.openai.completion_with_retry.<locals>._completion_with_retry in 4.0 seconds as it raised RateLimitError: The server had an error while processing your request. Sorry about that!.\n"
     ]
    },
    {
     "name": "stdout",
     "output_type": "stream",
     "text": [
      "\n",
      "Negative\n",
      "\n",
      "Neutral\n",
      "\n",
      "Neutral\n",
      "\n",
      "Neutral\n",
      "\n",
      "Negative\n",
      "\n",
      "Neutral\n"
     ]
    },
    {
     "name": "stderr",
     "output_type": "stream",
     "text": [
      "Retrying langchain.llms.openai.completion_with_retry.<locals>._completion_with_retry in 4.0 seconds as it raised RateLimitError: The server had an error while processing your request. Sorry about that!.\n"
     ]
    },
    {
     "name": "stdout",
     "output_type": "stream",
     "text": [
      "\n",
      "Negative\n"
     ]
    },
    {
     "name": "stderr",
     "output_type": "stream",
     "text": [
      "Retrying langchain.llms.openai.completion_with_retry.<locals>._completion_with_retry in 4.0 seconds as it raised RateLimitError: The server had an error while processing your request. Sorry about that!.\n"
     ]
    },
    {
     "name": "stdout",
     "output_type": "stream",
     "text": [
      "\n",
      "Negative\n"
     ]
    },
    {
     "name": "stderr",
     "output_type": "stream",
     "text": [
      "Retrying langchain.llms.openai.completion_with_retry.<locals>._completion_with_retry in 4.0 seconds as it raised RateLimitError: The server had an error while processing your request. Sorry about that!.\n"
     ]
    },
    {
     "name": "stdout",
     "output_type": "stream",
     "text": [
      "\n",
      "Neutral\n"
     ]
    },
    {
     "name": "stderr",
     "output_type": "stream",
     "text": [
      "Retrying langchain.llms.openai.completion_with_retry.<locals>._completion_with_retry in 4.0 seconds as it raised RateLimitError: The server had an error while processing your request. Sorry about that!.\n"
     ]
    },
    {
     "name": "stdout",
     "output_type": "stream",
     "text": [
      "\n",
      "Neutral\n",
      "\n",
      "Neutral.\n",
      "\n",
      "Positive\n",
      "\n",
      "Neutral\n",
      "\n",
      "Andrew: Neutral\n",
      "Elon: Positive\n",
      "Martin: Neutral\n",
      "\n",
      "Negative\n",
      "\n",
      "Neutral\n",
      "\n",
      "Negative\n",
      "\n",
      "Neutral\n",
      "\n",
      "Negative\n"
     ]
    },
    {
     "name": "stderr",
     "output_type": "stream",
     "text": [
      "Retrying langchain.llms.openai.completion_with_retry.<locals>._completion_with_retry in 4.0 seconds as it raised RateLimitError: The server had an error while processing your request. Sorry about that!.\n",
      "Retrying langchain.llms.openai.completion_with_retry.<locals>._completion_with_retry in 4.0 seconds as it raised RateLimitError: The server had an error while processing your request. Sorry about that!.\n",
      "Retrying langchain.llms.openai.completion_with_retry.<locals>._completion_with_retry in 4.0 seconds as it raised RateLimitError: The server had an error while processing your request. Sorry about that!.\n"
     ]
    },
    {
     "name": "stdout",
     "output_type": "stream",
     "text": [
      "\n",
      "Neutral\n"
     ]
    },
    {
     "name": "stderr",
     "output_type": "stream",
     "text": [
      "Retrying langchain.llms.openai.completion_with_retry.<locals>._completion_with_retry in 4.0 seconds as it raised RateLimitError: The server had an error while processing your request. Sorry about that!.\n"
     ]
    },
    {
     "name": "stdout",
     "output_type": "stream",
     "text": [
      "\n",
      "Neutral\n"
     ]
    },
    {
     "name": "stderr",
     "output_type": "stream",
     "text": [
      "Retrying langchain.llms.openai.completion_with_retry.<locals>._completion_with_retry in 4.0 seconds as it raised RateLimitError: The server had an error while processing your request. Sorry about that!.\n"
     ]
    },
    {
     "name": "stdout",
     "output_type": "stream",
     "text": [
      "\n",
      "Neutral\n"
     ]
    },
    {
     "name": "stderr",
     "output_type": "stream",
     "text": [
      "Retrying langchain.llms.openai.completion_with_retry.<locals>._completion_with_retry in 4.0 seconds as it raised RateLimitError: The server had an error while processing your request. Sorry about that!.\n"
     ]
    },
    {
     "name": "stdout",
     "output_type": "stream",
     "text": [
      "\n",
      "Neutral\n",
      "\n",
      "Positive\n",
      "\n",
      "Neutral\n"
     ]
    },
    {
     "name": "stderr",
     "output_type": "stream",
     "text": [
      "Retrying langchain.llms.openai.completion_with_retry.<locals>._completion_with_retry in 4.0 seconds as it raised RateLimitError: The server had an error while processing your request. Sorry about that!.\n",
      "Retrying langchain.llms.openai.completion_with_retry.<locals>._completion_with_retry in 4.0 seconds as it raised RateLimitError: The server had an error while processing your request. Sorry about that!.\n"
     ]
    },
    {
     "name": "stdout",
     "output_type": "stream",
     "text": [
      "\n",
      "Negative\n",
      "\n",
      "Neutral\n"
     ]
    },
    {
     "name": "stderr",
     "output_type": "stream",
     "text": [
      "Retrying langchain.llms.openai.completion_with_retry.<locals>._completion_with_retry in 4.0 seconds as it raised RateLimitError: The server had an error while processing your request. Sorry about that!.\n",
      "Retrying langchain.llms.openai.completion_with_retry.<locals>._completion_with_retry in 4.0 seconds as it raised RateLimitError: The server had an error while processing your request. Sorry about that!.\n",
      "Retrying langchain.llms.openai.completion_with_retry.<locals>._completion_with_retry in 4.0 seconds as it raised RateLimitError: The server had an error while processing your request. Sorry about that!.\n",
      "Retrying langchain.llms.openai.completion_with_retry.<locals>._completion_with_retry in 8.0 seconds as it raised RateLimitError: The server had an error while processing your request. Sorry about that!.\n"
     ]
    },
    {
     "name": "stdout",
     "output_type": "stream",
     "text": [
      "Neutral\n",
      "\n",
      "Negative\n"
     ]
    },
    {
     "name": "stderr",
     "output_type": "stream",
     "text": [
      "Retrying langchain.llms.openai.completion_with_retry.<locals>._completion_with_retry in 4.0 seconds as it raised RateLimitError: The server had an error while processing your request. Sorry about that!.\n"
     ]
    },
    {
     "name": "stdout",
     "output_type": "stream",
     "text": [
      "\n",
      "Negative\n",
      "\n",
      "Neutral\n",
      "\n",
      "Positive\n"
     ]
    },
    {
     "name": "stderr",
     "output_type": "stream",
     "text": [
      "Retrying langchain.llms.openai.completion_with_retry.<locals>._completion_with_retry in 4.0 seconds as it raised RateLimitError: The server had an error while processing your request. Sorry about that!.\n"
     ]
    },
    {
     "name": "stdout",
     "output_type": "stream",
     "text": [
      "\n",
      "Neutral\n",
      "\n",
      "Neutral\n",
      "\n",
      "Neutral\n"
     ]
    },
    {
     "name": "stderr",
     "output_type": "stream",
     "text": [
      "Retrying langchain.llms.openai.completion_with_retry.<locals>._completion_with_retry in 4.0 seconds as it raised RateLimitError: The server had an error while processing your request. Sorry about that!.\n"
     ]
    },
    {
     "name": "stdout",
     "output_type": "stream",
     "text": [
      "\n",
      "Negative\n"
     ]
    },
    {
     "name": "stderr",
     "output_type": "stream",
     "text": [
      "Retrying langchain.llms.openai.completion_with_retry.<locals>._completion_with_retry in 4.0 seconds as it raised RateLimitError: The server had an error while processing your request. Sorry about that!.\n"
     ]
    },
    {
     "name": "stdout",
     "output_type": "stream",
     "text": [
      "\n",
      "Negative\n",
      "\n",
      "Neutral\n"
     ]
    },
    {
     "name": "stderr",
     "output_type": "stream",
     "text": [
      "Retrying langchain.llms.openai.completion_with_retry.<locals>._completion_with_retry in 4.0 seconds as it raised RateLimitError: The server had an error while processing your request. Sorry about that!.\n",
      "Retrying langchain.llms.openai.completion_with_retry.<locals>._completion_with_retry in 4.0 seconds as it raised RateLimitError: The server had an error while processing your request. Sorry about that!.\n"
     ]
    },
    {
     "name": "stdout",
     "output_type": "stream",
     "text": [
      "\n",
      "Negative\n",
      "\n",
      "Negative\n",
      "\n",
      "Negative\n"
     ]
    },
    {
     "name": "stderr",
     "output_type": "stream",
     "text": [
      "Retrying langchain.llms.openai.completion_with_retry.<locals>._completion_with_retry in 4.0 seconds as it raised RateLimitError: The server had an error while processing your request. Sorry about that!.\n"
     ]
    },
    {
     "name": "stdout",
     "output_type": "stream",
     "text": [
      "\n",
      "Negative\n",
      "\n",
      "Neutral\n"
     ]
    },
    {
     "name": "stderr",
     "output_type": "stream",
     "text": [
      "Retrying langchain.llms.openai.completion_with_retry.<locals>._completion_with_retry in 4.0 seconds as it raised RateLimitError: The server had an error while processing your request. Sorry about that!.\n",
      "Retrying langchain.llms.openai.completion_with_retry.<locals>._completion_with_retry in 4.0 seconds as it raised RateLimitError: The server had an error while processing your request. Sorry about that!.\n",
      "Retrying langchain.llms.openai.completion_with_retry.<locals>._completion_with_retry in 4.0 seconds as it raised RateLimitError: The server had an error while processing your request. Sorry about that!.\n"
     ]
    },
    {
     "name": "stdout",
     "output_type": "stream",
     "text": [
      "\n",
      "Neutral\n",
      "\n",
      "Neutral\n",
      "The overall sentiment of the transcript: \n",
      "Neutral\n"
     ]
    }
   ],
   "source": [
    "# create prompt\n",
    "# create prompt template\n",
    "from langchain import PromptTemplate\n",
    "# get response from OpenAI\n",
    "from langchain.llms import OpenAI\n",
    "from langchain.chains import LLMChain\n",
    "# to reference envinronment variables\n",
    "from dotenv import load_dotenv\n",
    "\n",
    "load_dotenv()\n",
    "\n",
    "template_for_prompt = '''For the following text - {chunk}, \n",
    "determine sentiment. Respond with 1 word: Negative, Positive, Neutral.\n",
    "'''\n",
    "\n",
    "prompt = PromptTemplate(\n",
    "    input_variables=[\"chunk\"],\n",
    "    template = template_for_prompt\n",
    "    )\n",
    "\n",
    "llm = OpenAI()\n",
    "chain = LLMChain(llm = llm, prompt = prompt)\n",
    "#chain.run('no_punc_chunks')\n",
    "sentiment_for_chunks = []\n",
    "for c in no_punc_chunks:\n",
    "    response = chain.run(c)\n",
    "    print(response)\n",
    "    sentiment_for_chunks.append(response)\n",
    "    \n",
    "import statistics\n",
    "from statistics import mode    \n",
    "document_sentiment = mode(sentiment_for_chunks)\n",
    "\n",
    "print (f'The overall sentiment of the transcript: {document_sentiment}')\n"
   ]
  },
  {
   "cell_type": "code",
   "execution_count": 7,
   "id": "91150128",
   "metadata": {},
   "outputs": [
    {
     "data": {
      "text/plain": [
       "['Neutral',\n",
       " 'Neutral',\n",
       " 'Neutral',\n",
       " 'Neutral',\n",
       " 'Neutral',\n",
       " 'Neutral',\n",
       " 'Neutral',\n",
       " 'Neutral',\n",
       " 'Neutral',\n",
       " 'Neutral',\n",
       " 'Negative',\n",
       " 'Neutral',\n",
       " 'Neutral',\n",
       " 'Negative',\n",
       " 'Neutral',\n",
       " 'Neutral',\n",
       " 'Neutral',\n",
       " 'Neutral',\n",
       " 'Neutral',\n",
       " 'Neutral',\n",
       " 'Neutral',\n",
       " 'Positive',\n",
       " 'Negative',\n",
       " 'Neutral',\n",
       " 'Neutral',\n",
       " 'Negative',\n",
       " 'Negative',\n",
       " 'Positive',\n",
       " 'Neutral',\n",
       " 'Neutral',\n",
       " 'Neutral',\n",
       " 'Negative',\n",
       " 'Negative',\n",
       " 'Negative',\n",
       " 'Negative',\n",
       " 'Negative',\n",
       " 'Neutral',\n",
       " 'Negative',\n",
       " 'Neutral',\n",
       " 'Neutral',\n",
       " 'Neutral',\n",
       " 'Negative',\n",
       " 'Neutral',\n",
       " 'Negative',\n",
       " 'Negative',\n",
       " 'Neutral',\n",
       " 'Neutral',\n",
       " 'Neutral',\n",
       " 'Positive',\n",
       " 'Neutral',\n",
       " 'Positive',\n",
       " 'Negative',\n",
       " 'Neutral',\n",
       " 'Negative',\n",
       " 'Neutral',\n",
       " 'Negative',\n",
       " 'Neutral',\n",
       " 'Neutral',\n",
       " 'Neutral',\n",
       " 'Neutral',\n",
       " 'Positive',\n",
       " 'Neutral',\n",
       " 'Negative',\n",
       " 'Neutral',\n",
       " 'Neutral',\n",
       " 'Negative',\n",
       " 'Negative',\n",
       " 'Neutral',\n",
       " 'Positive',\n",
       " 'Neutral',\n",
       " 'Neutral',\n",
       " 'Neutral',\n",
       " 'Negative',\n",
       " 'Negative',\n",
       " 'Neutral',\n",
       " 'Negative',\n",
       " 'Negative',\n",
       " 'Negative',\n",
       " 'Negative',\n",
       " 'Neutral',\n",
       " 'Neutral',\n",
       " 'Neutral']"
      ]
     },
     "execution_count": 7,
     "metadata": {},
     "output_type": "execute_result"
    }
   ],
   "source": [
    "## for the sentiment array ensure all the items has just 1 of 3 values - postive, neutral, negative\n",
    "\n",
    "for i in range(len(sentiment_for_chunks)):\n",
    "    if 'Positive'in sentiment_for_chunks[i]:\n",
    "        sentiment_for_chunks[i] = 'Positive'\n",
    "    elif 'Negative' in sentiment_for_chunks[i]:\n",
    "        sentiment_for_chunks[i] = 'Negative'\n",
    "    else:\n",
    "        sentiment_for_chunks[i] = 'Neutral'\n",
    "\n",
    "sentiment_for_chunks\n",
    "\n",
    "# save the list into a file so you dont have to call openai always for learning\n",
    "outfile5 = r'C:\\MIDS\\Project2SentimentAnalysisTranscripts\\InTranscripts\\TextProcessing\\sentimentForChunks.txt'\n",
    "\n",
    "with open(outfile5, 'w') as fp:\n",
    "    for item in sentiment_for_chunks:\n",
    "        # write each ibtem on a new line\n",
    "        fp.write(\"%s\\n\" % item)\n",
    "    print('Done')\n"
   ]
  },
  {
   "cell_type": "code",
   "execution_count": 4,
   "id": "920539eb",
   "metadata": {},
   "outputs": [
    {
     "data": {
      "text/plain": [
       "['Neutral',\n",
       " 'Neutral',\n",
       " 'Neutral',\n",
       " 'Neutral',\n",
       " 'Neutral',\n",
       " 'Neutral',\n",
       " 'Neutral',\n",
       " 'Neutral',\n",
       " 'Neutral',\n",
       " 'Neutral',\n",
       " 'Negative',\n",
       " 'Neutral',\n",
       " 'Neutral',\n",
       " 'Negative',\n",
       " 'Neutral',\n",
       " 'Neutral',\n",
       " 'Neutral',\n",
       " 'Neutral',\n",
       " 'Neutral',\n",
       " 'Neutral',\n",
       " 'Neutral',\n",
       " 'Positive',\n",
       " 'Negative',\n",
       " 'Neutral',\n",
       " 'Neutral',\n",
       " 'Negative',\n",
       " 'Negative',\n",
       " 'Positive',\n",
       " 'Neutral',\n",
       " 'Neutral',\n",
       " 'Neutral',\n",
       " 'Negative',\n",
       " 'Negative',\n",
       " 'Negative',\n",
       " 'Negative',\n",
       " 'Negative',\n",
       " 'Neutral',\n",
       " 'Negative',\n",
       " 'Neutral',\n",
       " 'Neutral',\n",
       " 'Neutral',\n",
       " 'Negative',\n",
       " 'Neutral',\n",
       " 'Negative',\n",
       " 'Negative',\n",
       " 'Neutral',\n",
       " 'Neutral',\n",
       " 'Neutral',\n",
       " 'Positive',\n",
       " 'Neutral',\n",
       " 'Positive',\n",
       " 'Negative',\n",
       " 'Neutral',\n",
       " 'Negative',\n",
       " 'Neutral',\n",
       " 'Negative',\n",
       " 'Neutral',\n",
       " 'Neutral',\n",
       " 'Neutral',\n",
       " 'Neutral',\n",
       " 'Positive',\n",
       " 'Neutral',\n",
       " 'Negative',\n",
       " 'Neutral',\n",
       " 'Neutral',\n",
       " 'Negative',\n",
       " 'Negative',\n",
       " 'Neutral',\n",
       " 'Positive',\n",
       " 'Neutral',\n",
       " 'Neutral',\n",
       " 'Neutral',\n",
       " 'Negative',\n",
       " 'Negative',\n",
       " 'Neutral',\n",
       " 'Negative',\n",
       " 'Negative',\n",
       " 'Negative',\n",
       " 'Negative',\n",
       " 'Neutral',\n",
       " 'Neutral',\n",
       " 'Neutral']"
      ]
     },
     "execution_count": 4,
     "metadata": {},
     "output_type": "execute_result"
    }
   ],
   "source": [
    "outfile5 = r'C:\\MIDS\\Project2SentimentAnalysisTranscripts\\InTranscripts\\TextProcessing\\sentimentForChunks.txt'\n",
    "\n",
    "# read file into a list so you dont have to call openai\n",
    "with open(outfile5) as f:\n",
    "    sentiment_for_chunks_read_from_file = f.read().splitlines()\n",
    "\n",
    "sentiment_for_chunks_read_from_file"
   ]
  },
  {
   "cell_type": "code",
   "execution_count": 7,
   "id": "9582f378",
   "metadata": {},
   "outputs": [
    {
     "name": "stdout",
     "output_type": "stream",
     "text": [
      "avg_positive:\t0.07317073170731707\n",
      "avg_negative:\t0.3170731707317073\n",
      "avg_neutral:\t0.6097560975609756\n"
     ]
    },
    {
     "data": {
      "text/html": [
       "<div>\n",
       "<style scoped>\n",
       "    .dataframe tbody tr th:only-of-type {\n",
       "        vertical-align: middle;\n",
       "    }\n",
       "\n",
       "    .dataframe tbody tr th {\n",
       "        vertical-align: top;\n",
       "    }\n",
       "\n",
       "    .dataframe thead th {\n",
       "        text-align: right;\n",
       "    }\n",
       "</style>\n",
       "<table border=\"1\" class=\"dataframe\">\n",
       "  <thead>\n",
       "    <tr style=\"text-align: right;\">\n",
       "      <th></th>\n",
       "      <th>company</th>\n",
       "      <th>filename</th>\n",
       "      <th>publicationDate</th>\n",
       "      <th>avg.Postive</th>\n",
       "      <th>avg.Negative</th>\n",
       "      <th>avg.Neutral</th>\n",
       "      <th>overallSentiment</th>\n",
       "    </tr>\n",
       "  </thead>\n",
       "  <tbody>\n",
       "    <tr>\n",
       "      <th>0</th>\n",
       "      <td>Tesla</td>\n",
       "      <td>Earnings Call</td>\n",
       "      <td>2023-04-19</td>\n",
       "      <td>0.073171</td>\n",
       "      <td>0.317073</td>\n",
       "      <td>0.609756</td>\n",
       "      <td>Neutral</td>\n",
       "    </tr>\n",
       "  </tbody>\n",
       "</table>\n",
       "</div>"
      ],
      "text/plain": [
       "  company       filename publicationDate  avg.Postive  avg.Negative  \\\n",
       "0   Tesla  Earnings Call      2023-04-19     0.073171      0.317073   \n",
       "\n",
       "   avg.Neutral overallSentiment  \n",
       "0     0.609756          Neutral  "
      ]
     },
     "execution_count": 7,
     "metadata": {},
     "output_type": "execute_result"
    }
   ],
   "source": [
    "# initialize data frame to store the results of above\n",
    "# df has columns - company, file name, data of publication, avg of positive, avg of negative, avg of neutral, overall sentiment\n",
    "\n",
    "# for working with dataframes\n",
    "import pandas as pd\n",
    "\n",
    "# initialize a dataframe\n",
    "df_docresult = pd.DataFrame(columns=['company','filename','publicationDate', 'avg.Postive','avg.Negative'\n",
    "                                    ,'avg.Neutral','overallSentiment'])\n",
    "\n",
    "company='Tesla'\n",
    "filename='Earnings Call'\n",
    "publicationDate='2023-04-19'\n",
    "document_sentiment = 'Neutral'\n",
    "\n",
    "\n",
    "def sentimentAvg(sentimentList):\n",
    "    '''\n",
    "    Arg:\n",
    "    sentimentList - list with value of neutral, positive, negative\n",
    "    \n",
    "    Returns:\n",
    "    avg. Positive, Negative, Neutral metrics of the list.\n",
    "    '''\n",
    "    positive_count = neutral_count = negative_count = 0.0\n",
    "    \n",
    "    for i in range(len(sentimentList)):\n",
    "        if sentimentList[i] == 'Positive':\n",
    "            positive_count += 1\n",
    "        elif sentimentList[i] == 'Negative':\n",
    "            negative_count += 1\n",
    "        else:\n",
    "            neutral_count += 1\n",
    "        \n",
    "    avg_positive = positive_count/len(sentimentList)\n",
    "    avg_negative = negative_count/len(sentimentList)\n",
    "    avg_neutral = neutral_count/len(sentimentList)\n",
    "    \n",
    "    print(f'avg_positive:\\t{avg_positive}\\navg_negative:\\t{avg_negative}\\navg_neutral:\\t{avg_neutral}')\n",
    "    \n",
    "    return avg_positive, avg_negative, avg_neutral\n",
    "\n",
    "avgPositive, avgNegative, avgNeutral = sentimentAvg(sentiment_for_chunks_read_from_file)\n",
    "    \n",
    "# append row of data to dataframe\n",
    "df_docresult = pd.concat([pd.DataFrame([[company\n",
    "                                         , filename\n",
    "                                         , publicationDate\n",
    "                                         , avgPositive\n",
    "                                         , avgNegative\n",
    "                                         , avgNeutral\n",
    "                                         , document_sentiment\n",
    "                                        ]], columns=df_docresult.columns), df_docresult], ignore_index=True)\n",
    "\n",
    "df_docresult"
   ]
  },
  {
   "cell_type": "markdown",
   "id": "b6c4b509",
   "metadata": {},
   "source": [
    "# Visualization"
   ]
  },
  {
   "cell_type": "code",
   "execution_count": 54,
   "id": "78c5a681",
   "metadata": {},
   "outputs": [
    {
     "data": {
      "text/plain": [
       "['Hello', 'Hello', 'Hello2', 'Tesla', 'Tesla', 'Tesla1', 'Tesla2']"
      ]
     },
     "execution_count": 54,
     "metadata": {},
     "output_type": "execute_result"
    }
   ],
   "source": [
    "### working ########\n",
    "company = 'Tesla2'\n",
    "companyFile = open('C:\\MIDS\\Project2SentimentAnalysisTranscripts\\InTranscripts\\sentimentDF\\companyList.txt', 'a+')\n",
    "companyFile.seek(0)\n",
    "if company not in companyFile.read():\n",
    "    companyFile.write(company)\n",
    "    companyFile.write('\\n')\n",
    "\n",
    "companyFile.seek(0)\n",
    "allcompanies=companyFile.read()\n",
    "companyList = allcompanies.splitlines()\n",
    "companyList\n"
   ]
  },
  {
   "cell_type": "code",
   "execution_count": 11,
   "id": "a95926ef",
   "metadata": {},
   "outputs": [
    {
     "data": {
      "text/html": [
       "<div>\n",
       "<style scoped>\n",
       "    .dataframe tbody tr th:only-of-type {\n",
       "        vertical-align: middle;\n",
       "    }\n",
       "\n",
       "    .dataframe tbody tr th {\n",
       "        vertical-align: top;\n",
       "    }\n",
       "\n",
       "    .dataframe thead th {\n",
       "        text-align: right;\n",
       "    }\n",
       "</style>\n",
       "<table border=\"1\" class=\"dataframe\">\n",
       "  <thead>\n",
       "    <tr style=\"text-align: right;\">\n",
       "      <th></th>\n",
       "      <th>Unnamed: 0</th>\n",
       "      <th>company</th>\n",
       "      <th>publicationDate</th>\n",
       "      <th>filename</th>\n",
       "      <th>avg.Postive</th>\n",
       "      <th>avg.Negative</th>\n",
       "      <th>avg.Neutral</th>\n",
       "      <th>overallSentiment</th>\n",
       "    </tr>\n",
       "  </thead>\n",
       "  <tbody>\n",
       "    <tr>\n",
       "      <th>1</th>\n",
       "      <td>1</td>\n",
       "      <td>Tesla</td>\n",
       "      <td>2021-07-26</td>\n",
       "      <td>Tesla Inc._Earnings Call_2021-07-26_English.pdf</td>\n",
       "      <td>0.281690</td>\n",
       "      <td>0.211268</td>\n",
       "      <td>0.507042</td>\n",
       "      <td>Neutral</td>\n",
       "    </tr>\n",
       "    <tr>\n",
       "      <th>2</th>\n",
       "      <td>2</td>\n",
       "      <td>Tesla</td>\n",
       "      <td>2021-10-20</td>\n",
       "      <td>Tesla Inc._Earnings Call_2021-10-20_English.pdf</td>\n",
       "      <td>0.271605</td>\n",
       "      <td>0.259259</td>\n",
       "      <td>0.469136</td>\n",
       "      <td>Neutral</td>\n",
       "    </tr>\n",
       "    <tr>\n",
       "      <th>3</th>\n",
       "      <td>3</td>\n",
       "      <td>Tesla</td>\n",
       "      <td>2022-01-26</td>\n",
       "      <td>Tesla Inc._Earnings Call_2022-01-26_English.pdf</td>\n",
       "      <td>0.214286</td>\n",
       "      <td>0.171429</td>\n",
       "      <td>0.614286</td>\n",
       "      <td>Neutral</td>\n",
       "    </tr>\n",
       "    <tr>\n",
       "      <th>4</th>\n",
       "      <td>4</td>\n",
       "      <td>Tesla</td>\n",
       "      <td>2022-04-20</td>\n",
       "      <td>Tesla Inc._Earnings Call_2022-04-20_English.pdf</td>\n",
       "      <td>0.240506</td>\n",
       "      <td>0.291139</td>\n",
       "      <td>0.468354</td>\n",
       "      <td>Neutral</td>\n",
       "    </tr>\n",
       "    <tr>\n",
       "      <th>5</th>\n",
       "      <td>5</td>\n",
       "      <td>Tesla</td>\n",
       "      <td>2022-07-20</td>\n",
       "      <td>Tesla Inc._Earnings Call_2022-07-20_English.pdf</td>\n",
       "      <td>0.237500</td>\n",
       "      <td>0.300000</td>\n",
       "      <td>0.462500</td>\n",
       "      <td>Neutral</td>\n",
       "    </tr>\n",
       "    <tr>\n",
       "      <th>6</th>\n",
       "      <td>6</td>\n",
       "      <td>Tesla</td>\n",
       "      <td>2022-10-19</td>\n",
       "      <td>Tesla Inc._Earnings Call_2022-10-19_English.pdf</td>\n",
       "      <td>0.226667</td>\n",
       "      <td>0.253333</td>\n",
       "      <td>0.520000</td>\n",
       "      <td>Neutral</td>\n",
       "    </tr>\n",
       "    <tr>\n",
       "      <th>7</th>\n",
       "      <td>7</td>\n",
       "      <td>Tesla</td>\n",
       "      <td>2023-01-25</td>\n",
       "      <td>Tesla Inc._Earnings Call_2023-01-25_English.pdf</td>\n",
       "      <td>0.160000</td>\n",
       "      <td>0.293333</td>\n",
       "      <td>0.546667</td>\n",
       "      <td>Neutral</td>\n",
       "    </tr>\n",
       "    <tr>\n",
       "      <th>0</th>\n",
       "      <td>0</td>\n",
       "      <td>Tesla</td>\n",
       "      <td>2023-03-01</td>\n",
       "      <td>Tesla Inc._Analyst or Investor Day_2023-03-01_...</td>\n",
       "      <td>0.274900</td>\n",
       "      <td>0.163347</td>\n",
       "      <td>0.561753</td>\n",
       "      <td>Neutral</td>\n",
       "    </tr>\n",
       "    <tr>\n",
       "      <th>8</th>\n",
       "      <td>8</td>\n",
       "      <td>Tesla</td>\n",
       "      <td>2023-04-19</td>\n",
       "      <td>Tesla Inc._Earnings Call_2023-04-19_English.pdf</td>\n",
       "      <td>0.170732</td>\n",
       "      <td>0.256098</td>\n",
       "      <td>0.573171</td>\n",
       "      <td>Neutral</td>\n",
       "    </tr>\n",
       "  </tbody>\n",
       "</table>\n",
       "</div>"
      ],
      "text/plain": [
       "   Unnamed: 0 company publicationDate  \\\n",
       "1           1   Tesla      2021-07-26   \n",
       "2           2   Tesla      2021-10-20   \n",
       "3           3   Tesla      2022-01-26   \n",
       "4           4   Tesla      2022-04-20   \n",
       "5           5   Tesla      2022-07-20   \n",
       "6           6   Tesla      2022-10-19   \n",
       "7           7   Tesla      2023-01-25   \n",
       "0           0   Tesla      2023-03-01   \n",
       "8           8   Tesla      2023-04-19   \n",
       "\n",
       "                                            filename  avg.Postive  \\\n",
       "1    Tesla Inc._Earnings Call_2021-07-26_English.pdf     0.281690   \n",
       "2    Tesla Inc._Earnings Call_2021-10-20_English.pdf     0.271605   \n",
       "3    Tesla Inc._Earnings Call_2022-01-26_English.pdf     0.214286   \n",
       "4    Tesla Inc._Earnings Call_2022-04-20_English.pdf     0.240506   \n",
       "5    Tesla Inc._Earnings Call_2022-07-20_English.pdf     0.237500   \n",
       "6    Tesla Inc._Earnings Call_2022-10-19_English.pdf     0.226667   \n",
       "7    Tesla Inc._Earnings Call_2023-01-25_English.pdf     0.160000   \n",
       "0  Tesla Inc._Analyst or Investor Day_2023-03-01_...     0.274900   \n",
       "8    Tesla Inc._Earnings Call_2023-04-19_English.pdf     0.170732   \n",
       "\n",
       "   avg.Negative  avg.Neutral overallSentiment  \n",
       "1      0.211268     0.507042          Neutral  \n",
       "2      0.259259     0.469136          Neutral  \n",
       "3      0.171429     0.614286          Neutral  \n",
       "4      0.291139     0.468354          Neutral  \n",
       "5      0.300000     0.462500          Neutral  \n",
       "6      0.253333     0.520000          Neutral  \n",
       "7      0.293333     0.546667          Neutral  \n",
       "0      0.163347     0.561753          Neutral  \n",
       "8      0.256098     0.573171          Neutral  "
      ]
     },
     "execution_count": 11,
     "metadata": {},
     "output_type": "execute_result"
    }
   ],
   "source": [
    "# for working with dataframes\n",
    "import pandas as pd\n",
    "\n",
    "save_df_location = 'C:\\MIDS\\Project2SentimentAnalysisTranscripts\\InTranscripts\\sentimentDF\\\\'\n",
    "\n",
    "company = 'Tesla'\n",
    "\n",
    "full_file_location = save_df_location + company + '-sentMetrics.csv'\n",
    "metricsdf = pd.read_csv(full_file_location)\n",
    "\n",
    "metricsdf\n",
    "# metricsdf.dtypes\n",
    "\n",
    "metricsdf.sort_values(by='publicationDate', inplace = True)\n",
    "\n",
    "# Unnamed: 0            int64\n",
    "# company              object\n",
    "# publicationDate      object\n",
    "# filename             object\n",
    "# avg.Postive         float64\n",
    "# avg.Negative        float64\n",
    "# avg.Neutral         float64\n",
    "# overallSentiment     object\n",
    "# dtype: object\n"
   ]
  },
  {
   "cell_type": "code",
   "execution_count": 13,
   "id": "32a00266",
   "metadata": {},
   "outputs": [
    {
     "data": {
      "image/png": "[encoded data removed]",
      "text/plain": [
       "<Figure size 640x480 with 1 Axes>"
      ]
     },
     "metadata": {},
     "output_type": "display_data"
    }
   ],
   "source": [
    "# plot chart\n",
    "import matplotlib.pyplot as plt\n",
    "\n",
    "plt.plot(metricsdf['publicationDate'], metricsdf['avg.Postive'], label= 'Avg. Positive')\n",
    "plt.plot(metricsdf['publicationDate'], metricsdf['avg.Negative'], label= 'Avg. Negative')\n",
    "plt.plot(metricsdf['publicationDate'], metricsdf['avg.Neutral'], label= 'Avg. Neutral')\n",
    "\n",
    "# Add labels and title\n",
    "plt.xlabel('Publication date')\n",
    "plt.ylabel('Sentiment metric')\n",
    "plt.title('Line chart of sentiment change for Company Earnings calls')\n",
    "\n",
    "# display legend\n",
    "plt.legend()\n",
    "\n",
    "# show the plot\n",
    "plt.show()\n"
   ]
  },
  {
   "cell_type": "markdown",
   "id": "a9c52ab1",
   "metadata": {},
   "source": [
    "################# Rough below #########################"
   ]
  },
  {
   "cell_type": "code",
   "execution_count": 3,
   "id": "16e4ca81",
   "metadata": {},
   "outputs": [],
   "source": [
    "# remove URL references from text\n",
    "import re\n",
    "\n",
    "def remove_url(text):\n",
    "    # regular expression pattern to match URLs\n",
    "    url_pattern = r'https?://\\S+|www\\.\\S+'\n",
    "    cleaned_text =  re.sub(url_pattern, '', text)\n",
    "    \n",
    "    return cleaned_text\n",
    "\n",
    "text_withno_urls = remove_url(text)\n",
    "\n",
    "outfile1 = r'C:\\MIDS\\Project2SentimentAnalysisTranscripts\\InTranscripts\\TextProcessing\\extractedTextNoURLs.txt'\n",
    "\n",
    "with open(outfile1, 'w') as file:\n",
    "    file.write(text_withno_urls)"
   ]
  },
  {
   "cell_type": "code",
   "execution_count": 4,
   "id": "d8d7c479",
   "metadata": {},
   "outputs": [
    {
     "data": {
      "text/plain": [
       "str"
      ]
     },
     "execution_count": 4,
     "metadata": {},
     "output_type": "execute_result"
    }
   ],
   "source": [
    "type(text_withno_urls)"
   ]
  },
  {
   "cell_type": "code",
   "execution_count": 5,
   "id": "1296034c",
   "metadata": {},
   "outputs": [],
   "source": [
    "# converting all letters to lower or upper case\n",
    "text_lower_case = text_withno_urls.lower()\n",
    "# remove punctuations\n",
    "\n",
    "def remove_punctuation(input_string):\n",
    "    # Define a regular expression pattern to match punctuation characters\n",
    "    pattern = r\"[^\\w\\s]\"\n",
    "    \n",
    "    # Substitute the punctuation characters with an empty string\n",
    "    no_punct_string = re.sub(pattern, \"\", input_string)\n",
    "    \n",
    "    return no_punct_string\n",
    "\n",
    "text_no_punct = remove_punctuation (text_lower_case)# .replace(symbol, ' ')\n",
    "\n",
    "outfile2= r'C:\\MIDS\\Project2SentimentAnalysisTranscripts\\InTranscripts\\TextProcessing\\textNoPunctuations.txt'\n",
    "\n",
    "with open(outfile2, 'w') as file:\n",
    "    file.write(text_no_punct)"
   ]
  },
  {
   "cell_type": "code",
   "execution_count": 6,
   "id": "ae2837ca",
   "metadata": {},
   "outputs": [],
   "source": [
    "# read text preprocessing\n",
    "# tokenize words\n",
    "from nltk.tokenize import word_tokenize\n",
    "\n",
    "text_tokenized = word_tokenize(text_no_punct)\n",
    "text_tokenized_to_write_to_file = ','.join(text_tokenized)\n",
    "\n",
    "outfile2 = r'C:\\MIDS\\Project2SentimentAnalysisTranscripts\\InTranscripts\\TextProcessing\\tokenizedText.txt'\n",
    "\n",
    "with open(outfile2, 'w') as file:\n",
    "    file.write(text_tokenized_to_write_to_file)\n"
   ]
  },
  {
   "cell_type": "code",
   "execution_count": 7,
   "id": "cdc7d485",
   "metadata": {},
   "outputs": [
    {
     "name": "stderr",
     "output_type": "stream",
     "text": [
      "[nltk_data] Downloading package stopwords to\n",
      "[nltk_data]     C:\\Users\\martin.thomasmathew\\AppData\\Roaming\\nltk_data\n",
      "[nltk_data]     ...\n",
      "[nltk_data]   Package stopwords is already up-to-date!\n"
     ]
    }
   ],
   "source": [
    "#  remove stop words\n",
    "import nltk\n",
    "from nltk.corpus import stopwords\n",
    "nltk.download('stopwords')\n",
    "\n",
    "def remove_stopwords(input_stringlist):\n",
    "    filtered_words = [word for word in input_stringlist if word not in stopwords.words('english')]\n",
    "    filtered_string = ' '.join(filtered_words)\n",
    "    return filtered_string, filtered_words\n",
    "\n",
    "text_with_no_stopwords, textlist_with_no_stopwords = remove_stopwords(text_tokenized)\n",
    "\n",
    "\n",
    "outfile3 = r'C:\\MIDS\\Project2SentimentAnalysisTranscripts\\InTranscripts\\TextProcessing\\textNoStopWords.txt'\n",
    "\n",
    "with open(outfile3, 'w') as file:\n",
    "    file.write(text_with_no_stopwords)\n"
   ]
  },
  {
   "cell_type": "code",
   "execution_count": 8,
   "id": "193eb2f2",
   "metadata": {},
   "outputs": [
    {
     "name": "stderr",
     "output_type": "stream",
     "text": [
      "[nltk_data] Downloading package wordnet to\n",
      "[nltk_data]     C:\\Users\\martin.thomasmathew\\AppData\\Roaming\\nltk_data\n",
      "[nltk_data]     ...\n",
      "[nltk_data]   Package wordnet is already up-to-date!\n",
      "[nltk_data] Downloading package omw-1.4 to\n",
      "[nltk_data]     C:\\Users\\martin.thomasmathew\\AppData\\Roaming\\nltk_data\n",
      "[nltk_data]     ...\n",
      "[nltk_data]   Package omw-1.4 is already up-to-date!\n"
     ]
    }
   ],
   "source": [
    "# performing only lemmatization and not stemming. Going by \n",
    "# https://www.datacamp.com/tutorial/stemming-lemmatization-python that\n",
    "# indicates lemmatization as better though time-consuming compared to stemming\n",
    "from nltk.stem import WordNetLemmatizer\n",
    "nltk.download(\"wordnet\")\n",
    "nltk.download(\"omw-1.4\")\n",
    "\n",
    "def lemmatizeText(input_stringlist):\n",
    "    # Initialize wordnet lemmatizer\n",
    "    wnl = WordNetLemmatizer()\n",
    "    \n",
    "    lemmatized_words = []\n",
    "    for word in input_stringlist:\n",
    "        lemmatized_words.append(wnl.lemmatize(word, pos=\"v\"))\n",
    "    \n",
    "    lemmatized_string = ' '.join(lemmatized_words)\n",
    "    return lemmatized_string, lemmatized_words\n",
    "\n",
    "\n",
    "text_lemmatized, textlist_lemmatized = lemmatizeText(textlist_with_no_stopwords)\n",
    "\n",
    "outfile4 = r'C:\\MIDS\\Project2SentimentAnalysisTranscripts\\InTranscripts\\TextProcessing\\textLemmatized.txt'\n",
    "\n",
    "with open(outfile4, 'w') as file:\n",
    "    file.write(text_lemmatized)"
   ]
  },
  {
   "cell_type": "code",
   "execution_count": null,
   "id": "88ce295c",
   "metadata": {},
   "outputs": [],
   "source": [
    "# chunk it up. chunk by character count/tokens. see grzegorz image\n"
   ]
  }
 ],
 "metadata": {
  "kernelspec": {
   "display_name": "Python 3 (ipykernel)",
   "language": "python",
   "name": "python3"
  },
  "language_info": {
   "codemirror_mode": {
    "name": "ipython",
    "version": 3
   },
   "file_extension": ".py",
   "mimetype": "text/x-python",
   "name": "python",
   "nbconvert_exporter": "python",
   "pygments_lexer": "ipython3",
   "version": "3.10.11"
  }
 },
 "nbformat": 4,
 "nbformat_minor": 5
}
